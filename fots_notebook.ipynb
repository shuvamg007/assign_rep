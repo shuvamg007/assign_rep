{
  "nbformat": 4,
  "nbformat_minor": 0,
  "metadata": {
    "colab": {
      "name": "fots_notebook",
      "version": "0.3.2",
      "provenance": []
    },
    "kernelspec": {
      "name": "python3",
      "display_name": "Python 3"
    },
    "accelerator": "GPU"
  },
  "cells": [
    {
      "cell_type": "code",
      "metadata": {
        "id": "WGvryQIJv8YY",
        "colab_type": "code",
        "colab": {}
      },
      "source": [
        "import data.dataset\n",
        "from data.dataset import ImageDataSet,collate_fn\n",
        "from torch.utils.data import DataLoader\n",
        "from torch import nn\n",
        "from torch.autograd import Variable\n",
        "from torch.optim import lr_scheduler\n",
        "import torch.utils.data as data\n",
        "import torch.optim as optim\n",
        "from models.FOTS import FOTS\n",
        "from loss import *\n",
        "from config import opt\n",
        "from utils.bbox import Toolbox\n",
        "import logging\n",
        "import pathlib\n",
        "import traceback\n",
        "import os\n",
        "import models\n",
        "import torch\n",
        "import time\n",
        "import cv2\n",
        "\n",
        "logging.basicConfig(level=logging.DEBUG, format='')\n",
        "os.environ[\"CUDA_VISIBLE_DEVICES\"] = \"0\""
      ],
      "execution_count": 0,
      "outputs": []
    },
    {
      "cell_type": "code",
      "metadata": {
        "id": "xiPPRNxj8ePH",
        "colab_type": "code",
        "colab": {}
      },
      "source": [
        "# for training\n",
        "\n",
        "def train(epochs, model, trainloader, crit, optimizer,scheduler, save_step, weight_decay):\n",
        "  for e in range(opt.epoch_num):\n",
        "    print('Epoch - {} / {}'.format(e + 1, epochs))\n",
        "    model.train()\n",
        "    start = time.time()\n",
        "    loss = 0.0\n",
        "    total = 0.0\n",
        "\n",
        "    for i, (img, score_map, geo_map, training_mask) in enumerate(trainloader):\n",
        "      scheduler.step()\n",
        "      optimizer.zero_grad()\n",
        "\n",
        "      img = Variable(img.cuda())\n",
        "      score_map = Variable(score_map.cuda())\n",
        "      geo_map = Variable(geo_map.cuda())\n",
        "      training_mask = Variable(training_mask.cuda())\n",
        "      f_score, f_geometry,_= model(img)\n",
        "\n",
        "      loss1 = crit(score_map, f_score, geo_map, f_geometry, training_mask)\n",
        "      loss += loss1.item()\n",
        "\n",
        "      loss1.backward()\n",
        "      optimizer.step()\n",
        "\n",
        "    during = time.time() - start\n",
        "    print(\"Loss : {:.6f}, Time:{:.2f} s \".format(loss / len(trainloader), during))\n",
        "\n",
        "    if (e + 1) % save_step == 0:\n",
        "      if not os.path.exists('./save_model'):\n",
        "        os.mkdir('./save_model')\n",
        "      torch.save(model.state_dict(), './save_model/model_{}.pth'.format(e + 1))"
      ],
      "execution_count": 0,
      "outputs": []
    },
    {
      "cell_type": "code",
      "metadata": {
        "id": "AY5IDYIR4nBy",
        "colab_type": "code",
        "colab": {}
      },
      "source": [
        "opt.parse({})\n",
        "model = getattr(models, opt.model)()\n",
        "if os.path.exists(opt.load_model_path):\n",
        "  model.load(opt.load_model_path)\n",
        "\n",
        "if opt.use_gpu:\n",
        "  model.cuda()\n",
        "\n",
        "root_path = 'icdar_data'\n",
        "train_img = root_path + 'images'\n",
        "train_txt = root_path + 'labels'\n",
        "\n",
        "trainset = ImageDataSet(train_img, train_txt)\n",
        "trainloader = DataLoader(\n",
        "    trainset, batch_size=opt.batch_size, shuffle=True, collate_fn=collate_fn, num_workers=opt.num_workers)\n",
        "\n",
        "crit = LossFunc()\n",
        "weight_decay = 0\n",
        "optimizer = torch.optim.Adam(model.parameters(), lr=1e-4)\n",
        "scheduler = lr_scheduler.StepLR(optimizer, step_size=10000,gamma=0.94)\n",
        "\n",
        "train(epochs=opt.epoch_num, model=model, trainloader=trainloader,\n",
        "      crit=crit, optimizer=optimizer, scheduler=scheduler,\n",
        "      save_step=5, weight_decay=weight_decay)"
      ],
      "execution_count": 0,
      "outputs": []
    },
    {
      "cell_type": "code",
      "metadata": {
        "id": "uaY6itRpwPKv",
        "colab_type": "code",
        "colab": {}
      },
      "source": [
        "# for testing\n",
        "\n",
        "model_path = \"save_model/model_185.pth\"\n",
        "op_dir = \"test_results/\"\n",
        "ip_dir = \"text_detection/images/\""
      ],
      "execution_count": 0,
      "outputs": []
    },
    {
      "cell_type": "code",
      "metadata": {
        "id": "QSwlu1VLwa3o",
        "colab_type": "code",
        "colab": {}
      },
      "source": [
        "def load_model(model_path, with_gpu):\n",
        "  logger.info(\"Loading checkpoint: {} ...\".format(model_path))\n",
        "  checkpoints = torch.load(model_path)\n",
        "  if not checkpoints:\n",
        "    raise RuntimeError('No checkpoint found.')\n",
        "  FOTS_model = FOTS()\n",
        "  FOTS_model.load_state_dict(checkpoints)\n",
        "  if with_gpu:\n",
        "    FOTS_model = FOTS_model.cuda()\n",
        "  return FOTS_model"
      ],
      "execution_count": 0,
      "outputs": []
    },
    {
      "cell_type": "code",
      "metadata": {
        "id": "GoXoT6TiwhbA",
        "colab_type": "code",
        "colab": {}
      },
      "source": [
        "logger = logging.getLogger()\n",
        "\n",
        "with_image = True if op_dir else False\n",
        "with_gpu = True if torch.cuda.is_available() else False\n",
        "\n",
        "model = load_model(model_path, with_gpu)\n",
        "\n",
        "for image_fn in os.listdir(ip_dir):\n",
        "  try:\n",
        "    with torch.no_grad():\n",
        "      ploy, im = Toolbox.predict(image_fn, ip_dir, model, with_image, op_dir, with_gpu)\n",
        "  except Exception as e:\n",
        "    traceback.print_exc()"
      ],
      "execution_count": 0,
      "outputs": []
    }
  ]
}